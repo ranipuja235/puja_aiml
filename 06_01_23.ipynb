{
  "nbformat": 4,
  "nbformat_minor": 0,
  "metadata": {
    "colab": {
      "provenance": [],
      "authorship_tag": "ABX9TyP34dp+vzABtjqE6Nhmxqrj",
      "include_colab_link": true
    },
    "kernelspec": {
      "name": "python3",
      "display_name": "Python 3"
    },
    "language_info": {
      "name": "python"
    }
  },
  "cells": [
    {
      "cell_type": "markdown",
      "metadata": {
        "id": "view-in-github",
        "colab_type": "text"
      },
      "source": [
        "<a href=\"https://colab.research.google.com/github/ranipuja235/puja_aiml/blob/main/06_01_23.ipynb\" target=\"_parent\"><img src=\"https://colab.research.google.com/assets/colab-badge.svg\" alt=\"Open In Colab\"/></a>"
      ]
    },
    {
      "cell_type": "code",
      "execution_count": null,
      "metadata": {
        "colab": {
          "base_uri": "https://localhost:8080/"
        },
        "id": "eS7mEeEbU25h",
        "outputId": "687f458e-d6eb-47d5-89df-48b6ae108eec"
      },
      "outputs": [
        {
          "output_type": "stream",
          "name": "stdout",
          "text": [
            "Hello Pooja!\n"
          ]
        }
      ],
      "source": [
        "print('Hello Pooja!')"
      ]
    },
    {
      "cell_type": "markdown",
      "source": [
        "Using of parameters in print() statement."
      ],
      "metadata": {
        "id": "xRR-zAYkY_wX"
      }
    },
    {
      "cell_type": "code",
      "source": [
        "print('Hello' , end='\\n\\n')\n",
        "print('Abit')"
      ],
      "metadata": {
        "colab": {
          "base_uri": "https://localhost:8080/"
        },
        "id": "WQt7BY1DZRR_",
        "outputId": "2bf9b5f2-2144-43a8-c630-2b443643fa7d"
      },
      "execution_count": null,
      "outputs": [
        {
          "output_type": "stream",
          "name": "stdout",
          "text": [
            "Hello\n",
            "\n",
            "Abit\n"
          ]
        }
      ]
    },
    {
      "cell_type": "code",
      "source": [
        "a = 6\n",
        "b = 5\n",
        "c = 2023\n",
        "print(a,b,c , sep='-')"
      ],
      "metadata": {
        "colab": {
          "base_uri": "https://localhost:8080/"
        },
        "id": "tbq_s--9bjCE",
        "outputId": "d52f7500-04c9-4834-f83e-3f47d4b17f90"
      },
      "execution_count": null,
      "outputs": [
        {
          "output_type": "stream",
          "name": "stdout",
          "text": [
            "6-5-2023\n"
          ]
        }
      ]
    },
    {
      "cell_type": "code",
      "source": [
        "a=100\n",
        "print('a =',a)"
      ],
      "metadata": {
        "colab": {
          "base_uri": "https://localhost:8080/"
        },
        "id": "L45Vt8I3cS4U",
        "outputId": "de9018a3-91f1-40f9-9297-7ce1c1f876ce"
      },
      "execution_count": null,
      "outputs": [
        {
          "output_type": "stream",
          "name": "stdout",
          "text": [
            "a = 100\n"
          ]
        }
      ]
    },
    {
      "cell_type": "code",
      "source": [
        "nm = input('Enter Name')\n",
        "print(nm)"
      ],
      "metadata": {
        "colab": {
          "base_uri": "https://localhost:8080/"
        },
        "id": "sAde7RZNclzL",
        "outputId": "459d3eb9-2865-4bfe-eeea-3aa225d02855"
      },
      "execution_count": null,
      "outputs": [
        {
          "output_type": "stream",
          "name": "stdout",
          "text": [
            "Enter NamePooja\n",
            "Pooja\n"
          ]
        }
      ]
    },
    {
      "cell_type": "code",
      "source": [
        "#Using of plus operator.\n",
        "a = input('Enter a ')\n",
        "b = input('Enter b ')\n",
        "c = a+b\n",
        "print('C value is = ' , c)\n"
      ],
      "metadata": {
        "colab": {
          "base_uri": "https://localhost:8080/"
        },
        "id": "9VRbXOk0dt4w",
        "outputId": "b4e510c9-ea17-43bb-e947-3bf24653b4a2"
      },
      "execution_count": null,
      "outputs": [
        {
          "output_type": "stream",
          "name": "stdout",
          "text": [
            "Enter a 22\n",
            "Enter b 44\n",
            "C value is =  2244\n"
          ]
        }
      ]
    },
    {
      "cell_type": "code",
      "source": [
        "#Using of plus operator.\n",
        "a = int(input('Enter a '))\n",
        "b = int(input('Enter b '))\n",
        "c = a+b\n",
        "print('C value is = ' , c)"
      ],
      "metadata": {
        "colab": {
          "base_uri": "https://localhost:8080/"
        },
        "id": "5bSoHIjsfFna",
        "outputId": "faea8761-54a9-412a-e2ee-ab24a2fb24a3"
      },
      "execution_count": null,
      "outputs": [
        {
          "output_type": "stream",
          "name": "stdout",
          "text": [
            "Enter a 22\n",
            "Enter b 66\n",
            "C value is =  88\n"
          ]
        }
      ]
    },
    {
      "cell_type": "code",
      "source": [
        "#The type() function\n",
        "\n",
        "a = 20\n",
        "print(type(a))\n",
        "b = 8.99\n",
        "print(type(b))\n",
        "c = False\n",
        "print(type(c))\n",
        "d = \"abit\"\n",
        "print(type(d))"
      ],
      "metadata": {
        "colab": {
          "base_uri": "https://localhost:8080/"
        },
        "id": "8YCUS7d5f4LD",
        "outputId": "0738133a-be3d-4fd7-be27-c0c8e32ed36f"
      },
      "execution_count": null,
      "outputs": [
        {
          "output_type": "stream",
          "name": "stdout",
          "text": [
            "<class 'int'>\n",
            "<class 'float'>\n",
            "<class 'bool'>\n",
            "<class 'str'>\n"
          ]
        }
      ]
    },
    {
      "cell_type": "code",
      "source": [
        "x=0b10100\n",
        "y=100\n",
        "z=0o215\n",
        "u=0x12d\n",
        "float_1=100.5\n",
        "float_2=1.5e2\n",
        "a=5+3.14j\n",
        "print(x,y,z,u)\n",
        "print(float_1,float_2)\n",
        "print(a,a.imag,a.real)"
      ],
      "metadata": {
        "colab": {
          "base_uri": "https://localhost:8080/"
        },
        "id": "QNUh8rVnjsyZ",
        "outputId": "861830c3-ccc1-47c2-a8d1-9e7086dbc6ec"
      },
      "execution_count": null,
      "outputs": [
        {
          "output_type": "stream",
          "name": "stdout",
          "text": [
            "20 100 141 301\n",
            "100.5 150.0\n",
            "(5+3.14j) 3.14 5.0\n"
          ]
        }
      ]
    },
    {
      "cell_type": "code",
      "source": [
        "a=2+5j\n",
        "b=3+10j\n",
        "c=a+b\n",
        "print(c)"
      ],
      "metadata": {
        "colab": {
          "base_uri": "https://localhost:8080/"
        },
        "id": "jDjxq92RmkZQ",
        "outputId": "1e5b07a3-ef15-46bd-9a01-a5e63f569c89"
      },
      "execution_count": null,
      "outputs": [
        {
          "output_type": "stream",
          "name": "stdout",
          "text": [
            "(5+15j)\n"
          ]
        }
      ]
    },
    {
      "cell_type": "code",
      "source": [],
      "metadata": {
        "id": "QUG2idiDm3Z2"
      },
      "execution_count": null,
      "outputs": []
    },
    {
      "cell_type": "code",
      "source": [],
      "metadata": {
        "id": "6A-MSAtgX23O"
      },
      "execution_count": null,
      "outputs": []
    }
  ]
}