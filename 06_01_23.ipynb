{
  "nbformat": 4,
  "nbformat_minor": 0,
  "metadata": {
    "colab": {
      "provenance": [],
      "authorship_tag": "ABX9TyOcHt4QhKDXDjn8YSYXIzH6",
      "include_colab_link": true
    },
    "kernelspec": {
      "name": "python3",
      "display_name": "Python 3"
    },
    "language_info": {
      "name": "python"
    }
  },
  "cells": [
    {
      "cell_type": "markdown",
      "metadata": {
        "id": "view-in-github",
        "colab_type": "text"
      },
      "source": [
        "<a href=\"https://colab.research.google.com/github/ranipuja235/puja_aiml/blob/main/06_01_23.ipynb\" target=\"_parent\"><img src=\"https://colab.research.google.com/assets/colab-badge.svg\" alt=\"Open In Colab\"/></a>"
      ]
    },
    {
      "cell_type": "code",
      "execution_count": null,
      "metadata": {
        "colab": {
          "base_uri": "https://localhost:8080/"
        },
        "id": "eS7mEeEbU25h",
        "outputId": "687f458e-d6eb-47d5-89df-48b6ae108eec"
      },
      "outputs": [
        {
          "output_type": "stream",
          "name": "stdout",
          "text": [
            "Hello Pooja!\n"
          ]
        }
      ],
      "source": [
        "print('Hello Pooja!')"
      ]
    },
    {
      "cell_type": "markdown",
      "source": [
        "Using of parameters in print() statement."
      ],
      "metadata": {
        "id": "xRR-zAYkY_wX"
      }
    },
    {
      "cell_type": "code",
      "source": [
        "print('Hello' , end='\\n\\n')\n",
        "print('Abit')"
      ],
      "metadata": {
        "colab": {
          "base_uri": "https://localhost:8080/"
        },
        "id": "WQt7BY1DZRR_",
        "outputId": "2bf9b5f2-2144-43a8-c630-2b443643fa7d"
      },
      "execution_count": null,
      "outputs": [
        {
          "output_type": "stream",
          "name": "stdout",
          "text": [
            "Hello\n",
            "\n",
            "Abit\n"
          ]
        }
      ]
    },
    {
      "cell_type": "code",
      "source": [
        "a = 6\n",
        "b = 5\n",
        "c = 2023\n",
        "print(a,b,c , sep='-')"
      ],
      "metadata": {
        "colab": {
          "base_uri": "https://localhost:8080/"
        },
        "id": "tbq_s--9bjCE",
        "outputId": "d52f7500-04c9-4834-f83e-3f47d4b17f90"
      },
      "execution_count": null,
      "outputs": [
        {
          "output_type": "stream",
          "name": "stdout",
          "text": [
            "6-5-2023\n"
          ]
        }
      ]
    },
    {
      "cell_type": "code",
      "source": [
        "a=100\n",
        "print('a =',a)"
      ],
      "metadata": {
        "colab": {
          "base_uri": "https://localhost:8080/"
        },
        "id": "L45Vt8I3cS4U",
        "outputId": "de9018a3-91f1-40f9-9297-7ce1c1f876ce"
      },
      "execution_count": null,
      "outputs": [
        {
          "output_type": "stream",
          "name": "stdout",
          "text": [
            "a = 100\n"
          ]
        }
      ]
    },
    {
      "cell_type": "code",
      "source": [
        "nm = input('Enter Name')\n",
        "print(nm)"
      ],
      "metadata": {
        "colab": {
          "base_uri": "https://localhost:8080/"
        },
        "id": "sAde7RZNclzL",
        "outputId": "459d3eb9-2865-4bfe-eeea-3aa225d02855"
      },
      "execution_count": null,
      "outputs": [
        {
          "output_type": "stream",
          "name": "stdout",
          "text": [
            "Enter NamePooja\n",
            "Pooja\n"
          ]
        }
      ]
    },
    {
      "cell_type": "code",
      "source": [
        "#Using of plus operator.\n",
        "a = input('Enter a ')\n",
        "b = input('Enter b ')\n",
        "c = a+b\n",
        "print('C value is = ' , c)\n"
      ],
      "metadata": {
        "colab": {
          "base_uri": "https://localhost:8080/"
        },
        "id": "9VRbXOk0dt4w",
        "outputId": "b4e510c9-ea17-43bb-e947-3bf24653b4a2"
      },
      "execution_count": null,
      "outputs": [
        {
          "output_type": "stream",
          "name": "stdout",
          "text": [
            "Enter a 22\n",
            "Enter b 44\n",
            "C value is =  2244\n"
          ]
        }
      ]
    },
    {
      "cell_type": "code",
      "source": [
        "#Using of plus operator.\n",
        "a = int(input('Enter a '))\n",
        "b = int(input('Enter b '))\n",
        "c = a+b\n",
        "print('C value is = ' , c)"
      ],
      "metadata": {
        "colab": {
          "base_uri": "https://localhost:8080/"
        },
        "id": "5bSoHIjsfFna",
        "outputId": "faea8761-54a9-412a-e2ee-ab24a2fb24a3"
      },
      "execution_count": null,
      "outputs": [
        {
          "output_type": "stream",
          "name": "stdout",
          "text": [
            "Enter a 22\n",
            "Enter b 66\n",
            "C value is =  88\n"
          ]
        }
      ]
    },
    {
      "cell_type": "code",
      "source": [
        "#The type() function\n",
        "\n",
        "a = 20\n",
        "print(type(a))\n",
        "b = 8.99\n",
        "print(type(b))\n",
        "c = False\n",
        "print(type(c))\n",
        "d = \"abit\"\n",
        "print(type(d))"
      ],
      "metadata": {
        "colab": {
          "base_uri": "https://localhost:8080/"
        },
        "id": "8YCUS7d5f4LD",
        "outputId": "0738133a-be3d-4fd7-be27-c0c8e32ed36f"
      },
      "execution_count": null,
      "outputs": [
        {
          "output_type": "stream",
          "name": "stdout",
          "text": [
            "<class 'int'>\n",
            "<class 'float'>\n",
            "<class 'bool'>\n",
            "<class 'str'>\n"
          ]
        }
      ]
    },
    {
      "cell_type": "code",
      "source": [
        "x=0b10100\n",
        "y=100\n",
        "z=0o215\n",
        "u=0x12d\n",
        "float_1=100.5\n",
        "float_2=1.5e2\n",
        "a=5+3.14j\n",
        "print(x,y,z,u)\n",
        "print(float_1,float_2)\n",
        "print(a,a.imag,a.real)"
      ],
      "metadata": {
        "colab": {
          "base_uri": "https://localhost:8080/"
        },
        "id": "QNUh8rVnjsyZ",
        "outputId": "861830c3-ccc1-47c2-a8d1-9e7086dbc6ec"
      },
      "execution_count": null,
      "outputs": [
        {
          "output_type": "stream",
          "name": "stdout",
          "text": [
            "20 100 141 301\n",
            "100.5 150.0\n",
            "(5+3.14j) 3.14 5.0\n"
          ]
        }
      ]
    },
    {
      "cell_type": "code",
      "source": [
        "a=2+5j\n",
        "b=3+10j\n",
        "c=a+b\n",
        "print(c)"
      ],
      "metadata": {
        "colab": {
          "base_uri": "https://localhost:8080/"
        },
        "id": "jDjxq92RmkZQ",
        "outputId": "1e5b07a3-ef15-46bd-9a01-a5e63f569c89"
      },
      "execution_count": null,
      "outputs": [
        {
          "output_type": "stream",
          "name": "stdout",
          "text": [
            "(5+15j)\n"
          ]
        }
      ]
    },
    {
      "cell_type": "code",
      "source": [
        "a=2\n",
        "b=5\n",
        "print(2**5)"
      ],
      "metadata": {
        "colab": {
          "base_uri": "https://localhost:8080/"
        },
        "id": "Wds7-oRvbnIh",
        "outputId": "c5eba63c-9300-465e-df4d-ae1f7973dc8e"
      },
      "execution_count": null,
      "outputs": [
        {
          "output_type": "stream",
          "name": "stdout",
          "text": [
            "32\n"
          ]
        }
      ]
    },
    {
      "cell_type": "code",
      "source": [],
      "metadata": {
        "id": "a90RLWvldVAA"
      },
      "execution_count": null,
      "outputs": []
    },
    {
      "cell_type": "code",
      "source": [
        "a=8\n",
        "b=3\n",
        "print(a/b)\n",
        "print(a//b)"
      ],
      "metadata": {
        "id": "QUG2idiDm3Z2",
        "colab": {
          "base_uri": "https://localhost:8080/"
        },
        "outputId": "70c4738c-c61c-4daa-d879-7f5ab74df322"
      },
      "execution_count": null,
      "outputs": [
        {
          "output_type": "stream",
          "name": "stdout",
          "text": [
            "2.6666666666666665\n",
            "2\n"
          ]
        }
      ]
    },
    {
      "cell_type": "code",
      "source": [
        "a=True\n",
        "b=True\n",
        "c=False\n",
        "print(a and b)\n",
        "\n",
        "print(a and c)\n",
        "\n",
        "print(a or b)\n",
        "\n",
        "print(not c)"
      ],
      "metadata": {
        "colab": {
          "base_uri": "https://localhost:8080/"
        },
        "id": "6A-MSAtgX23O",
        "outputId": "0a183743-7a53-47e0-9551-d93fce387bac"
      },
      "execution_count": null,
      "outputs": [
        {
          "output_type": "stream",
          "name": "stdout",
          "text": [
            "True\n",
            "False\n",
            "True\n",
            "True\n"
          ]
        }
      ]
    },
    {
      "cell_type": "code",
      "source": [
        "a=5\n",
        "b=2\n",
        "print(a<<b)"
      ],
      "metadata": {
        "colab": {
          "base_uri": "https://localhost:8080/"
        },
        "id": "OCPbCFuleLws",
        "outputId": "030a263e-1833-4b69-f313-0908ac82bff1"
      },
      "execution_count": null,
      "outputs": [
        {
          "output_type": "stream",
          "name": "stdout",
          "text": [
            "20\n"
          ]
        }
      ]
    },
    {
      "cell_type": "code",
      "source": [
        "a=5\n",
        "b=2\n",
        "print(a>>b)"
      ],
      "metadata": {
        "colab": {
          "base_uri": "https://localhost:8080/"
        },
        "id": "c7WaNCJmfgr7",
        "outputId": "0681ff9e-0071-493e-dfc5-d4275ff16f36"
      },
      "execution_count": null,
      "outputs": [
        {
          "output_type": "stream",
          "name": "stdout",
          "text": [
            "1\n"
          ]
        }
      ]
    },
    {
      "cell_type": "code",
      "source": [
        "a=5\n",
        "a+=5\n",
        "print(a)\n",
        "a-=5\n",
        "print(a)"
      ],
      "metadata": {
        "colab": {
          "base_uri": "https://localhost:8080/"
        },
        "id": "pyZMQbcKf2Om",
        "outputId": "935b1f15-b9fc-4679-f5b1-a9fd1f872181"
      },
      "execution_count": null,
      "outputs": [
        {
          "output_type": "stream",
          "name": "stdout",
          "text": [
            "10\n",
            "5\n"
          ]
        }
      ]
    },
    {
      "cell_type": "code",
      "source": [
        "a=5\n",
        "a*=5\n",
        "print(a)\n",
        "a/=5\n",
        "print(a)"
      ],
      "metadata": {
        "colab": {
          "base_uri": "https://localhost:8080/"
        },
        "id": "cjAk6RdSg0GZ",
        "outputId": "2afe3d44-f9bd-450c-d2dd-374e1cb1415e"
      },
      "execution_count": null,
      "outputs": [
        {
          "output_type": "stream",
          "name": "stdout",
          "text": [
            "25\n",
            "5.0\n"
          ]
        }
      ]
    },
    {
      "cell_type": "code",
      "source": [
        "a=5\n",
        "a%=5\n",
        "print(a)\n",
        "a//=5\n",
        "print(a)"
      ],
      "metadata": {
        "colab": {
          "base_uri": "https://localhost:8080/"
        },
        "id": "not99XKuhEkZ",
        "outputId": "28427d2b-94a1-43a1-ede8-28c5244b8b5f"
      },
      "execution_count": null,
      "outputs": [
        {
          "output_type": "stream",
          "name": "stdout",
          "text": [
            "0\n",
            "0\n"
          ]
        }
      ]
    },
    {
      "cell_type": "code",
      "source": [
        "a=5\n",
        "\n",
        "print(a)\n",
        "a>>=2\n",
        "print(a)\n",
        "a<<=5\n",
        "print(a)"
      ],
      "metadata": {
        "colab": {
          "base_uri": "https://localhost:8080/"
        },
        "id": "7wGyGAdBhO5M",
        "outputId": "ce6dc52f-fd14-46ed-837d-40a638fb2eab"
      },
      "execution_count": null,
      "outputs": [
        {
          "output_type": "stream",
          "name": "stdout",
          "text": [
            "5\n",
            "1\n",
            "32\n"
          ]
        }
      ]
    },
    {
      "cell_type": "code",
      "source": [
        "x=5\n",
        "y=5\n",
        "print(x is y)\n",
        "y=6\n",
        "print(x is not y)"
      ],
      "metadata": {
        "colab": {
          "base_uri": "https://localhost:8080/"
        },
        "id": "7seaeCKyid5I",
        "outputId": "781edfc2-1520-44b4-a915-23fa6a73c9a4"
      },
      "execution_count": null,
      "outputs": [
        {
          "output_type": "stream",
          "name": "stdout",
          "text": [
            "True\n",
            "True\n"
          ]
        }
      ]
    },
    {
      "cell_type": "code",
      "source": [
        "x='HELLO'\n",
        "print('A' in x)\n",
        "print('A' not in x)"
      ],
      "metadata": {
        "colab": {
          "base_uri": "https://localhost:8080/"
        },
        "id": "xpIMve-zjWMN",
        "outputId": "2145fac0-0d49-4429-9839-be3ac61c46c0"
      },
      "execution_count": null,
      "outputs": [
        {
          "output_type": "stream",
          "name": "stdout",
          "text": [
            "False\n",
            "True\n"
          ]
        }
      ]
    },
    {
      "cell_type": "code",
      "source": [
        "a=int(input('enter a number'))\n",
        "if a%2==0:\n",
        "  print('Even No=',a)"
      ],
      "metadata": {
        "colab": {
          "base_uri": "https://localhost:8080/"
        },
        "id": "0HK5XtYDkNA9",
        "outputId": "782fa4bd-7888-47f4-c55d-233a8384ac07"
      },
      "execution_count": null,
      "outputs": [
        {
          "output_type": "stream",
          "name": "stdout",
          "text": [
            "enter a number6\n",
            "Even No= 6\n"
          ]
        }
      ]
    },
    {
      "cell_type": "code",
      "source": [
        "a=int(input('enter a number'))\n",
        "if a%2==0:\n",
        "  print('Even No=',a)\n",
        "else:\n",
        " print('odd No=',a)"
      ],
      "metadata": {
        "colab": {
          "base_uri": "https://localhost:8080/"
        },
        "id": "3Z_vObRYlbQO",
        "outputId": "58a6e3b8-2602-448e-de2f-5212da506157"
      },
      "execution_count": null,
      "outputs": [
        {
          "output_type": "stream",
          "name": "stdout",
          "text": [
            "enter a number5\n",
            "odd No= 5\n"
          ]
        }
      ]
    },
    {
      "cell_type": "code",
      "source": [],
      "metadata": {
        "id": "HdZ6pBr3mnYt"
      },
      "execution_count": null,
      "outputs": []
    },
    {
      "cell_type": "markdown",
      "source": [
        "#using if-ELIF statement"
      ],
      "metadata": {
        "id": "It8CzUEnmgC1"
      }
    },
    {
      "cell_type": "code",
      "source": [
        "number=int(input(\"Enter the number?\"))\n",
        "if number==10:\n",
        "  print(\"number is equal to 10\")\n",
        "elif number==50:\n",
        "  print(\"number is equal to 50\");\n",
        "elif number==100:\n",
        "  print(\"number is equal to 100\");\n",
        "else:\n",
        "  print(\"number is not equal to 10,50 and 100\");"
      ],
      "metadata": {
        "colab": {
          "base_uri": "https://localhost:8080/"
        },
        "id": "InQJYr5im4Bz",
        "outputId": "6e452769-4d86-4f27-f156-7350bdbacb5a"
      },
      "execution_count": null,
      "outputs": [
        {
          "output_type": "stream",
          "name": "stdout",
          "text": [
            "Enter the number?51\n",
            "number is not equal to 10,50 and 100\n"
          ]
        }
      ]
    },
    {
      "cell_type": "code",
      "source": [
        "x='pujarani'\n",
        "for i in x:\n",
        "  print(i)\n"
      ],
      "metadata": {
        "colab": {
          "base_uri": "https://localhost:8080/"
        },
        "id": "vYLpESpEmQEH",
        "outputId": "d95ea068-c3d3-4ca8-85e3-952c68409e09"
      },
      "execution_count": null,
      "outputs": [
        {
          "output_type": "stream",
          "name": "stdout",
          "text": [
            "p\n",
            "u\n",
            "j\n",
            "a\n",
            "r\n",
            "a\n",
            "n\n",
            "i\n"
          ]
        }
      ]
    },
    {
      "cell_type": "code",
      "source": [
        "#to create table\n",
        "list=[1,2,3,4,5,6,7,8,9,10]\n",
        "n=5 \n",
        "for i in list :\n",
        "  c=n*i\n",
        "  print(c)\n"
      ],
      "metadata": {
        "id": "8UN9wgVooOAR",
        "colab": {
          "base_uri": "https://localhost:8080/"
        },
        "outputId": "9be37359-7dc8-4fa6-bd0a-236c8e63fd2f"
      },
      "execution_count": null,
      "outputs": [
        {
          "output_type": "stream",
          "name": "stdout",
          "text": [
            "5\n",
            "10\n",
            "15\n",
            "20\n",
            "25\n",
            "30\n",
            "35\n",
            "40\n",
            "45\n",
            "50\n"
          ]
        }
      ]
    },
    {
      "cell_type": "code",
      "source": [
        "#to create table\n",
        "list=[1,2,3,4,5,6,7,8,9,10]\n",
        "n=int(input('enter your choice'))\n",
        "for i in list :\n",
        "  c=n*i\n",
        "  print(c)"
      ],
      "metadata": {
        "colab": {
          "base_uri": "https://localhost:8080/"
        },
        "id": "UPdwyz8Gf6z0",
        "outputId": "282f084b-c8c3-4ed7-f239-b254db60be4e"
      },
      "execution_count": null,
      "outputs": [
        {
          "output_type": "stream",
          "name": "stdout",
          "text": [
            "enter your choice3\n",
            "3\n",
            "6\n",
            "9\n",
            "12\n",
            "15\n",
            "18\n",
            "21\n",
            "24\n",
            "27\n",
            "30\n"
          ]
        }
      ]
    },
    {
      "cell_type": "code",
      "source": [
        "#to create table\n",
        "list=[10,30,23,43,65,12]\n",
        "sum=0\n",
        "for i in list:\n",
        "  sum=sum+i\n",
        "print(\"the sum is:\",sum)"
      ],
      "metadata": {
        "colab": {
          "base_uri": "https://localhost:8080/"
        },
        "id": "FDuojpb0gVBu",
        "outputId": "eb96b945-f7d1-46ba-b059-72be9f92eef4"
      },
      "execution_count": null,
      "outputs": [
        {
          "output_type": "stream",
          "name": "stdout",
          "text": [
            "the sum is: 183\n"
          ]
        }
      ]
    },
    {
      "cell_type": "code",
      "source": [
        "#using range() function in the loop\n",
        "for i in range(10):\n",
        "  print(i)"
      ],
      "metadata": {
        "colab": {
          "base_uri": "https://localhost:8080/"
        },
        "id": "f-vPneFxgwhc",
        "outputId": "304cb299-74b4-45b1-9d10-0467a3611be4"
      },
      "execution_count": null,
      "outputs": [
        {
          "output_type": "stream",
          "name": "stdout",
          "text": [
            "0\n",
            "1\n",
            "2\n",
            "3\n",
            "4\n",
            "5\n",
            "6\n",
            "7\n",
            "8\n",
            "9\n"
          ]
        }
      ]
    },
    {
      "cell_type": "code",
      "source": [
        "for i in range(10):\n",
        "  print(i,end=' ')"
      ],
      "metadata": {
        "colab": {
          "base_uri": "https://localhost:8080/"
        },
        "id": "Q0g1I4pKhB44",
        "outputId": "ba7f61ee-25a4-4bf1-a5ce-6f548e5c9b71"
      },
      "execution_count": null,
      "outputs": [
        {
          "output_type": "stream",
          "name": "stdout",
          "text": [
            "0 1 2 3 4 5 6 7 8 9 "
          ]
        }
      ]
    },
    {
      "cell_type": "code",
      "source": [
        "n=int(input(\"enter the number \"))\n",
        "for i in range(1,11):\n",
        "  c=n*i\n",
        "  print(n,\"*\",i,\"=\",c)"
      ],
      "metadata": {
        "colab": {
          "base_uri": "https://localhost:8080/"
        },
        "id": "KTxPzek9hiRe",
        "outputId": "cdcf7d1b-234c-467c-afaa-75a712a87696"
      },
      "execution_count": null,
      "outputs": [
        {
          "output_type": "stream",
          "name": "stdout",
          "text": [
            "enter the number 10\n",
            "10 * 1 = 10\n",
            "10 * 2 = 20\n",
            "10 * 3 = 30\n",
            "10 * 4 = 40\n",
            "10 * 5 = 50\n",
            "10 * 6 = 60\n",
            "10 * 7 = 70\n",
            "10 * 8 = 80\n",
            "10 * 9 = 90\n",
            "10 * 10 = 100\n"
          ]
        }
      ]
    },
    {
      "cell_type": "code",
      "source": [
        "n=int(input(\"enter the number\"))\n",
        "for i in range(2,n,2):\n",
        "  print(i)"
      ],
      "metadata": {
        "colab": {
          "base_uri": "https://localhost:8080/"
        },
        "id": "FQUSYElPiMEd",
        "outputId": "e5b19c91-0bdb-4827-f563-29b1513949dc"
      },
      "execution_count": null,
      "outputs": [
        {
          "output_type": "stream",
          "name": "stdout",
          "text": [
            "enter the number20\n",
            "2\n",
            "4\n",
            "6\n",
            "8\n",
            "10\n",
            "12\n",
            "14\n",
            "16\n",
            "18\n"
          ]
        }
      ]
    },
    {
      "cell_type": "code",
      "source": [
        "n=int(input(\"enter the number=\"))\n",
        "sum=0\n",
        "for i in range(2,n,2):\n",
        "  sum=sum+i\n",
        "print(\"thr sum is\",sum) \n"
      ],
      "metadata": {
        "colab": {
          "base_uri": "https://localhost:8080/"
        },
        "id": "7z0INTcZlP3h",
        "outputId": "cc017a3c-3a98-4dc1-d7ca-1129676a65f6"
      },
      "execution_count": null,
      "outputs": [
        {
          "output_type": "stream",
          "name": "stdout",
          "text": [
            "enter the number=10\n",
            "thr sum is 20\n"
          ]
        }
      ]
    },
    {
      "cell_type": "code",
      "source": [
        "#using len() function\n",
        "list=['Peter','Joseph','Ricky','Devansh']\n",
        "for i in range(len(list)):\n",
        "  print(\"HELLO\",list[i])\n"
      ],
      "metadata": {
        "colab": {
          "base_uri": "https://localhost:8080/"
        },
        "id": "nTujdcQCinie",
        "outputId": "dedc911f-d1b1-402c-fec1-0dc3b441d4f2"
      },
      "execution_count": null,
      "outputs": [
        {
          "output_type": "stream",
          "name": "stdout",
          "text": [
            "HELLO Peter\n",
            "HELLO Joseph\n",
            "HELLO Ricky\n",
            "HELLO Devansh\n"
          ]
        }
      ]
    },
    {
      "cell_type": "code",
      "source": [
        "#nested for loop\n",
        "for i in range(5):\n",
        "  for j in range(5):\n",
        "    print(i,end='')\n",
        "  print('')\n"
      ],
      "metadata": {
        "colab": {
          "base_uri": "https://localhost:8080/"
        },
        "id": "b-tHC0k4mEnH",
        "outputId": "5a2f01d2-1b77-45d8-bad3-09ba09c58269"
      },
      "execution_count": null,
      "outputs": [
        {
          "output_type": "stream",
          "name": "stdout",
          "text": [
            "00000\n",
            "11111\n",
            "22222\n",
            "33333\n",
            "44444\n"
          ]
        }
      ]
    },
    {
      "cell_type": "code",
      "source": [
        "#nested for loop\n",
        "for i in range(1,6):\n",
        "  for j in range(5):\n",
        "    print(i,end='')\n",
        "  print('')\n"
      ],
      "metadata": {
        "colab": {
          "base_uri": "https://localhost:8080/"
        },
        "id": "mb8xOuBLoaMb",
        "outputId": "7c7c1a88-149d-4427-c0c7-f492f8e00a04"
      },
      "execution_count": null,
      "outputs": [
        {
          "output_type": "stream",
          "name": "stdout",
          "text": [
            "11111\n",
            "22222\n",
            "33333\n",
            "44444\n",
            "55555\n"
          ]
        }
      ]
    },
    {
      "cell_type": "code",
      "source": [
        "#user input for number of rows\n",
        "rows=int(input(\"enter the rows:\"))\n",
        "#outer loop will print number of rows\n",
        "for i in range(0,rows+1):\n",
        "#inner loop will print number of Astrick\n",
        " for j in range(i):\n",
        "  print(\"*\",end=\" \")\n",
        " print()"
      ],
      "metadata": {
        "colab": {
          "base_uri": "https://localhost:8080/"
        },
        "id": "vHC-Kd6YoxeL",
        "outputId": "a0b16a83-b1b4-4dc4-eb4f-dac0e1e49f20"
      },
      "execution_count": null,
      "outputs": [
        {
          "output_type": "stream",
          "name": "stdout",
          "text": [
            "enter the rows:5\n",
            "\n",
            "* \n",
            "* * \n",
            "* * * \n",
            "* * * * \n",
            "* * * * * \n"
          ]
        }
      ]
    },
    {
      "cell_type": "code",
      "source": [
        "#program to number pyramid.\n",
        "rows=int(input(\"enter the rows\"))\n",
        "for i in range(0,rows+1):\n",
        "  for j in range(i):\n",
        "    print(i,end=\" \")\n",
        "  print( )"
      ],
      "metadata": {
        "colab": {
          "base_uri": "https://localhost:8080/"
        },
        "id": "wqtXuDvgqL1L",
        "outputId": "b0b30eb3-c0a9-4da3-e700-18cfd16a02ac"
      },
      "execution_count": null,
      "outputs": [
        {
          "output_type": "stream",
          "name": "stdout",
          "text": [
            "enter the rows5\n",
            "\n",
            "1 \n",
            "2 2 \n",
            "3 3 3 \n",
            "4 4 4 4 \n",
            "5 5 5 5 5 \n"
          ]
        }
      ]
    },
    {
      "cell_type": "code",
      "source": [
        "#using while loop\n",
        "s=0\n",
        "i=1\n",
        "while i<=10:\n",
        "  s=s+i\n",
        "  i=i+1\n",
        "print('sum from 1 to 10=',s)"
      ],
      "metadata": {
        "colab": {
          "base_uri": "https://localhost:8080/"
        },
        "id": "6XFVUAYzqxxu",
        "outputId": "535a6a3f-c5e2-4135-a95f-359d46c52a25"
      },
      "execution_count": null,
      "outputs": [
        {
          "output_type": "stream",
          "name": "stdout",
          "text": [
            "sum from 1 to 10= 55\n"
          ]
        }
      ]
    },
    {
      "cell_type": "code",
      "source": [
        "s=int(input(\"enter the number= \"))\n",
        "rev=0\n",
        "while s>0:\n",
        "  d=int(s%10)\n",
        "  rev=(rev*10+d)\n",
        "  s=int(s/10)\n",
        "print('reverse =',rev)\n",
        "\n",
        "        "
      ],
      "metadata": {
        "colab": {
          "base_uri": "https://localhost:8080/"
        },
        "id": "zIWQgABvsUvF",
        "outputId": "9eb30ec4-0b27-4511-d72e-e5676a59c8c4"
      },
      "execution_count": null,
      "outputs": [
        {
          "output_type": "stream",
          "name": "stdout",
          "text": [
            "enter the number= 123\n",
            "reverse = 321\n"
          ]
        }
      ]
    },
    {
      "cell_type": "code",
      "source": [
        "#break statement\n",
        "i=1\n",
        "while i<=10:\n",
        "  print(i)\n",
        "  if i==5:\n",
        "    break\n",
        "  i=i+1"
      ],
      "metadata": {
        "colab": {
          "base_uri": "https://localhost:8080/"
        },
        "id": "aRwc9IBtvPhh",
        "outputId": "59b8f2dc-154f-4221-ddab-2a6a05a57bc6"
      },
      "execution_count": null,
      "outputs": [
        {
          "output_type": "stream",
          "name": "stdout",
          "text": [
            "1\n",
            "2\n",
            "3\n",
            "4\n",
            "5\n"
          ]
        }
      ]
    },
    {
      "cell_type": "code",
      "source": [
        "#contiue statement\n",
        "for var in \"ABIT\":\n",
        "  if var==\"B\":\n",
        "    continue\n",
        "  print(var)"
      ],
      "metadata": {
        "colab": {
          "base_uri": "https://localhost:8080/"
        },
        "id": "LzQk2rN7vjqU",
        "outputId": "ff472ae2-0d77-4c47-f1d2-d7b92206b03f"
      },
      "execution_count": null,
      "outputs": [
        {
          "output_type": "stream",
          "name": "stdout",
          "text": [
            "A\n",
            "I\n",
            "T\n"
          ]
        }
      ]
    },
    {
      "cell_type": "code",
      "source": [
        "#break statement\n",
        "for i in range(10):\n",
        "  print(i)\n",
        "  if i==2:\n",
        "    break"
      ],
      "metadata": {
        "colab": {
          "base_uri": "https://localhost:8080/"
        },
        "id": "gDD3lrrgoPuv",
        "outputId": "4c0f55b3-b811-4000-a865-26249b0742f0"
      },
      "execution_count": null,
      "outputs": [
        {
          "output_type": "stream",
          "name": "stdout",
          "text": [
            "0\n",
            "1\n",
            "2\n"
          ]
        }
      ]
    },
    {
      "cell_type": "code",
      "source": [
        "#write a program to print 1 to 10 remove 5\n",
        "for i in range(10):\n",
        "  if i==5:\n",
        "    continue\n",
        "  print(i)"
      ],
      "metadata": {
        "colab": {
          "base_uri": "https://localhost:8080/"
        },
        "id": "ehM9KVsIqFup",
        "outputId": "c043823c-eb7b-4c90-98b8-693a83b21a97"
      },
      "execution_count": null,
      "outputs": [
        {
          "output_type": "stream",
          "name": "stdout",
          "text": [
            "0\n",
            "1\n",
            "2\n",
            "3\n",
            "4\n",
            "6\n",
            "7\n",
            "8\n",
            "9\n"
          ]
        }
      ]
    },
    {
      "cell_type": "code",
      "source": [
        "#pass statement\n",
        "puja=['a','b','c','d']\n",
        "for i in puja:\n",
        "  if(i=='a'):\n",
        "    pass\n",
        "  else:\n",
        "    print(i)"
      ],
      "metadata": {
        "colab": {
          "base_uri": "https://localhost:8080/"
        },
        "id": "ccvb3SOesmeH",
        "outputId": "f42534b2-60eb-4534-9cab-31902cd18ad4"
      },
      "execution_count": null,
      "outputs": [
        {
          "output_type": "stream",
          "name": "stdout",
          "text": [
            "b\n",
            "c\n",
            "d\n"
          ]
        }
      ]
    },
    {
      "cell_type": "code",
      "source": [
        "#write a python program to print n even numbers and pass the value after 10 upto n.\n",
        "n=int(input(\"enter the number\"))\n",
        "for i in range(2,n+1,2):\n",
        "  if(i<=10):\n",
        "    pass\n",
        "  else:\n",
        "    print(i)\n"
      ],
      "metadata": {
        "colab": {
          "base_uri": "https://localhost:8080/"
        },
        "id": "kLKmNGg9rlnC",
        "outputId": "dd56b1f3-9751-461b-c77c-34b313447b14"
      },
      "execution_count": null,
      "outputs": [
        {
          "output_type": "stream",
          "name": "stdout",
          "text": [
            "enter the number20\n",
            "12\n",
            "14\n",
            "16\n",
            "18\n",
            "20\n"
          ]
        }
      ]
    },
    {
      "cell_type": "code",
      "source": [
        "#using python function\n",
        "def puja():\n",
        "  print('HELLO PYTHON')\n",
        "puja()\n",
        "  \n"
      ],
      "metadata": {
        "colab": {
          "base_uri": "https://localhost:8080/"
        },
        "id": "Yhm2lobQw0-J",
        "outputId": "3162f236-53c4-40a4-9483-2776c3c55272"
      },
      "execution_count": null,
      "outputs": [
        {
          "output_type": "stream",
          "name": "stdout",
          "text": [
            "HELLO PYTHON\n"
          ]
        }
      ]
    },
    {
      "cell_type": "code",
      "source": [
        "def sum(a,b):\n",
        "  print('a+b =',(a+b))\n",
        "sum(22,33)"
      ],
      "metadata": {
        "colab": {
          "base_uri": "https://localhost:8080/"
        },
        "id": "MyRm6xATy1b1",
        "outputId": "ebfe3a6b-4ba2-4eaa-8011-c2362df5c009"
      },
      "execution_count": null,
      "outputs": [
        {
          "output_type": "stream",
          "name": "stdout",
          "text": [
            "a+b = 55\n"
          ]
        }
      ]
    },
    {
      "cell_type": "code",
      "source": [
        "def sum(a,b):\n",
        "  print('a+b =',(a+b))\n",
        "x=int(input(\"enter x= \"))\n",
        "y=int(input(\"enter y= 56\"))\n",
        "sum(x,y)"
      ],
      "metadata": {
        "colab": {
          "base_uri": "https://localhost:8080/"
        },
        "id": "FeNOG-yHzZLc",
        "outputId": "7a0d1f44-6850-4d7e-cf37-87ec41f9cf82"
      },
      "execution_count": null,
      "outputs": [
        {
          "output_type": "stream",
          "name": "stdout",
          "text": [
            "enter x= 45\n",
            "enter y= 56\n",
            "a+b = 101\n"
          ]
        }
      ]
    },
    {
      "cell_type": "code",
      "source": [
        "#write a python program using function and take the input from the keyboard of the number to reverse it and count number of odd and even\n",
        "num=(1,2,3,4,5,6,7,8,9)\n",
        "reversed_num=0\n",
        "while num !=0:\n",
        "  digit=num % 10\n",
        "  reversed_num=reversed_num *10 + digit\n",
        "  num //=10\n",
        "print(\"reversed number :  \" + str(reversed_num))\n",
        "for x in num:\n",
        "  if \n"
      ],
      "metadata": {
        "id": "DyUMWtOt0T7K"
      },
      "execution_count": null,
      "outputs": []
    },
    {
      "cell_type": "code",
      "source": [
        "#write a python program the base class contains the addition of two numbers and the derived class contains multiplication of same two number.\n",
        "class a():\n",
        "  def sum(self,a,b):\n",
        "    return a+b\n",
        "class b(a):\n",
        "  def mul(self,a,b):\n",
        "    return a*b\n",
        "d=b()\n",
        "a=int(input(\"Enter 1st number..\"))\n",
        "b=int(input(\"Enter 2nd number..\"))\n",
        "print(d.sum(a,b))\n",
        "print(d.mul(a,b))\n",
        "\n",
        "\n"
      ],
      "metadata": {
        "colab": {
          "base_uri": "https://localhost:8080/"
        },
        "id": "V2sY5tPgp2_f",
        "outputId": "09d4658f-e806-4695-83bf-c1dd2516686e"
      },
      "execution_count": 1,
      "outputs": [
        {
          "output_type": "stream",
          "name": "stdout",
          "text": [
            "Enter 1st number..23\n",
            "Enter 2nd number..34\n",
            "57\n",
            "782\n"
          ]
        }
      ]
    },
    {
      "cell_type": "code",
      "source": [
        "class base:\n",
        "  def add(self,a,b):\n",
        "    return a+b\n",
        "class derived (base):\n",
        "  def mul(self,a,b):\n",
        "    return a*b\n",
        "m=int(input('a='))\n",
        "n=int(input('b='))\n",
        "obj=derived()\n",
        "print(obj.add(m,n))\n",
        "print(obj.mul(m,n))\n"
      ],
      "metadata": {
        "colab": {
          "base_uri": "https://localhost:8080/"
        },
        "id": "6G1Utvs6uxbM",
        "outputId": "9a84404c-7f6c-4a74-cc18-5f52d1c9b87c"
      },
      "execution_count": 3,
      "outputs": [
        {
          "output_type": "stream",
          "name": "stdout",
          "text": [
            "a=2\n",
            "b=3\n",
            "5\n",
            "6\n"
          ]
        }
      ]
    },
    {
      "cell_type": "code",
      "source": [
        "#write a python program using multilable inheritance to design calculator whose contains four derived of derived classes but only one child or derived classes.\n",
        "class A():\n",
        " def sum(self,a,b):\n",
        "  return a+b\n",
        "class B(A):\n",
        " def sub(self,a,b):\n",
        "  return a-b\n",
        "class C(B):\n",
        " def mul(self,a,b):\n",
        "  return a*b\n",
        "class D(C):\n",
        " def div(self,a,b):\n",
        "  return a/b\n",
        "class E(D):\n",
        " def rem(self,a,b):\n",
        "  return a%b\n",
        "d=E()\n",
        "a=int(input('INPUT a='))\n",
        "b=int(input('INPUT b='))\n",
        "print(d.sum(a,b))\n",
        "print(d.sub(a,b))\n",
        "print(d.mul(a,b))\n",
        "print(d.div(a,b))\n",
        "print(d.rem(a,b))"
      ],
      "metadata": {
        "colab": {
          "base_uri": "https://localhost:8080/"
        },
        "id": "vsRaAa01v9IQ",
        "outputId": "2816fcee-b0c2-459f-d841-51bf146b6bb8"
      },
      "execution_count": 8,
      "outputs": [
        {
          "output_type": "stream",
          "name": "stdout",
          "text": [
            "INPUT a=5\n",
            "INPUT b=6\n",
            "11\n",
            "-1\n",
            "30\n",
            "0.8333333333333334\n",
            "5\n"
          ]
        }
      ]
    },
    {
      "cell_type": "code",
      "source": [
        "#write a python program to input employee information imp id,name,basic salary,hra=15%,ta=5% and medical allounce=5% if basic salary is 5000 and if 10% more than 10000 using single inheritance .the base class contains all the emploeey information but the derived class contains the net salalry of the emp with all information..\n",
        "print(\"SALARY PROGRAM\")\n",
        "name= str(input(\"Enter name of employee:\"))\n",
        "basic=float(input(\"Enter Basic Salary :\"))\n",
        "da=float(basic*0.25)\n",
        "hra=float(basic*0.15)\n",
        "pf=float((basic+da)*0.12)\n",
        "ta=float(basic*0.075)\n",
        "netpay=float(basic+da+hra+ta)\n",
        "grosspay=float(netpay-pf)\n",
        "\n",
        "print(\"\\n\\n\")\n",
        "print(\"SALARY DETAILED BREAK UP \")\n",
        "print(\"===========================\")\n",
        "print(\" NAME OF EMPLOYEE : \",name)\n",
        "print(\" BASIC SALARY : \",basic)\n",
        "print(\" DEARNESS ALLOW. : \",da)\n",
        "print(\" HOUSE RENT ALLOW.: \",hra)\n",
        "print(\" TRAVEL ALLOW. : \",ta)\n",
        "print(\"======================\")\n",
        "print(\" NET SALARY PAY : \",netpay)\n",
        "print(\" PROVIDENT FUND : \",pf)\n",
        "print(\"========================\")\n",
        "print(\" GROSS PAYMENT : \",grosspay)\n",
        "print(\"============================\")\n",
        "\n"
      ],
      "metadata": {
        "colab": {
          "base_uri": "https://localhost:8080/"
        },
        "id": "gM8ey2nx0KTw",
        "outputId": "04f05647-0f89-4710-9a0b-8e1c79f81cbc"
      },
      "execution_count": 11,
      "outputs": [
        {
          "output_type": "stream",
          "name": "stdout",
          "text": [
            "SALARY PROGRAM\n",
            "Enter name of employee:puja\n",
            "Enter Basic Salary :1000\n",
            "\n",
            "\n",
            "\n",
            "SALARY DETAILED BREAK UP \n",
            "===========================\n",
            " NAME OF EMPLOYEE :  puja\n",
            " BASIC SALARY :  1000.0\n",
            " DEARNESS ALLOW. :  250.0\n",
            " HOUSE RENT ALLOW.:  150.0\n",
            " TRAVEL ALLOW. :  75.0\n",
            "======================\n",
            " NET SALARY PAY :  1475.0\n",
            " PROVIDENT FUND :  150.0\n",
            "========================\n",
            " GROSS PAYMENT :  1325.0\n",
            "============================\n"
          ]
        }
      ]
    }
  ]
}